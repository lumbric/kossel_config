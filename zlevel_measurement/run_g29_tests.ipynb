{
 "metadata": {
  "name": ""
 },
 "nbformat": 3,
 "nbformat_minor": 0,
 "worksheets": [
  {
   "cells": [
    {
     "cell_type": "markdown",
     "metadata": {},
     "source": [
      "Test z leveling and temperature\n",
      "-------------------------------\n",
      "Runs G29 test in loop to get output with different temperatures."
     ]
    },
    {
     "cell_type": "code",
     "collapsed": false,
     "input": [
      "from serial import Serial, SerialException, PARITY_ODD, PARITY_NONE\n",
      "from time import sleep, time"
     ],
     "language": "python",
     "metadata": {},
     "outputs": [],
     "prompt_number": 10
    },
    {
     "cell_type": "code",
     "collapsed": false,
     "input": [
      "class Rubinstein(object):\n",
      "    def __init__(self, port='/dev/ttyUSB0', baudrate=250000, timeout=0.25):\n",
      "        self.serial = Serial(port='/dev/ttyUSB0', baudrate=250000, timeout=0.25)\n",
      "        self.busy = False\n",
      "    \n",
      "    def command(self, cmd, timeout=600):\n",
      "        # FIXME needs mutex!\n",
      "        if self.busy or self.serial.read():\n",
      "            raise RuntimeError(\"busy\")\n",
      "        self.busy = True\n",
      "        self.serial.write(\"{}\\n\".format(cmd))\n",
      "        response = ''\n",
      "        start = time()\n",
      "        while time() - start < timeout:\n",
      "            sleep(0.2)\n",
      "            line = self.serial.readline()\n",
      "            if line == 'ok\\n':\n",
      "                # FIXME missing try/finally for busy=False\n",
      "                self.busy = False\n",
      "                return response\n",
      "            if len(line) > 0:\n",
      "                print line,\n",
      "            response += line\n",
      "        else:\n",
      "            raise RuntimeError(\"timeout when waiting for command {}\".format(cmd))"
     ],
     "language": "python",
     "metadata": {},
     "outputs": [],
     "prompt_number": 11
    },
    {
     "cell_type": "code",
     "collapsed": false,
     "input": [
      "rubinstein = Rubinstein()\n",
      "rubinstein.command('M114')"
     ],
     "language": "python",
     "metadata": {},
     "outputs": [
      {
       "output_type": "stream",
       "stream": "stdout",
       "text": [
        "X:0.00 Y:0.00 Z:31.50 E:550.51 Count X: 217.39 Y:217.39 Z:217.39\n"
       ]
      },
      {
       "output_type": "pyout",
       "prompt_number": 14,
       "text": [
        "'X:0.00 Y:0.00 Z:31.50 E:550.51 Count X: 217.39 Y:217.39 Z:217.39\\n'"
       ]
      }
     ],
     "prompt_number": 14
    },
    {
     "cell_type": "code",
     "collapsed": false,
     "input": [
      "TEMPS = [50, 70]\n",
      "repetitions = 3\n",
      "sleep_between = 120\n",
      "\n",
      "for temp in TEMPS:\n",
      "    for i in range(repetitions):\n",
      "        rubinstein.command('M190 R{}'.format(int(temp))) # set bed temp, and wait\n",
      "    \n",
      "        rubinstein.command('G28')\n",
      "        zlevel = rubinstein.command('G29')\n",
      "        # move slowly to center for better G28 next time\n",
      "        rubinstein.command('G1 X0 Y0 F2000')\n",
      "    \n",
      "        with open(\"zlevel_log_temp{}.log\".format(temp), 'w') as f:\n",
      "            f.write(zlevel)\n",
      "            \n",
      "        sleep(sleep_between)"
     ],
     "language": "python",
     "metadata": {},
     "outputs": [
      {
       "output_type": "stream",
       "stream": "stdout",
       "text": [
        "T:20.62 E:0 B:30.0\n",
        "T:20.62 E:0 B:30.0\n"
       ]
      },
      {
       "output_type": "stream",
       "stream": "stdout",
       "text": [
        "T:20.62 E:0 B:30.0\n",
        "T:20.59 E:0 B:30.0\n"
       ]
      },
      {
       "output_type": "stream",
       "stream": "stdout",
       "text": [
        "T:20.55 E:0 B:30.1\n",
        "T:20.59 E:0 B:30.5\n"
       ]
      },
      {
       "output_type": "stream",
       "stream": "stdout",
       "text": [
        "T:20.59 E:0 B:30.9\n",
        "T:20.55 E:0 B:31.5\n"
       ]
      },
      {
       "output_type": "stream",
       "stream": "stdout",
       "text": [
        "T:20.55 E:0 B:32.0\n",
        "T:20.62 E:0 B:32.5\n"
       ]
      },
      {
       "output_type": "stream",
       "stream": "stdout",
       "text": [
        "T:20.55 E:0 B:33.2\n",
        "T:20.59 E:0 B:33.7\n"
       ]
      },
      {
       "output_type": "stream",
       "stream": "stdout",
       "text": [
        "T:20.51 E:0 B:34.3\n",
        "T:20.55 E:0 B:35.0\n"
       ]
      },
      {
       "output_type": "stream",
       "stream": "stdout",
       "text": [
        "T:20.59 E:0 B:35.7\n",
        "T:20.59 E:0 B:36.3\n"
       ]
      },
      {
       "output_type": "stream",
       "stream": "stdout",
       "text": [
        "T:20.59 E:0 B:36.9\n",
        "T:20.59 E:0 B:37.5\n"
       ]
      },
      {
       "output_type": "stream",
       "stream": "stdout",
       "text": [
        "T:20.62 E:0 B:38.0\n",
        "T:20.59 E:0 B:38.7\n"
       ]
      },
      {
       "output_type": "stream",
       "stream": "stdout",
       "text": [
        "T:20.59 E:0 B:39.3\n",
        "T:20.59 E:0 B:40.0\n"
       ]
      },
      {
       "output_type": "stream",
       "stream": "stdout",
       "text": [
        "T:20.59 E:0 B:40.6\n",
        "T:20.59 E:0 B:41.2\n"
       ]
      },
      {
       "output_type": "stream",
       "stream": "stdout",
       "text": [
        "T:20.59 E:0 B:41.8\n",
        "T:20.62 E:0 B:42.4\n"
       ]
      },
      {
       "output_type": "stream",
       "stream": "stdout",
       "text": [
        "T:20.59 E:0 B:43.0\n",
        "T:20.59 E:0 B:43.6\n"
       ]
      },
      {
       "output_type": "stream",
       "stream": "stdout",
       "text": [
        "T:20.62 E:0 B:44.2\n",
        "T:20.62 E:0 B:44.8\n"
       ]
      },
      {
       "output_type": "stream",
       "stream": "stdout",
       "text": [
        "T:20.59 E:0 B:45.5\n",
        "T:20.62 E:0 B:46.0\n"
       ]
      },
      {
       "output_type": "stream",
       "stream": "stdout",
       "text": [
        "T:20.62 E:0 B:46.7\n",
        "T:20.62 E:0 B:47.4\n"
       ]
      },
      {
       "output_type": "stream",
       "stream": "stdout",
       "text": [
        "T:20.59 E:0 B:47.9\n",
        "T:20.62 E:0 B:48.4\n"
       ]
      },
      {
       "output_type": "stream",
       "stream": "stdout",
       "text": [
        "T:20.59 E:0 B:49.0\n",
        "T:20.59 E:0 B:49.6\n"
       ]
      },
      {
       "output_type": "stream",
       "stream": "stdout",
       "text": [
        "Bed x: 21.67 y: -65.00 z: 5.58\n",
        "Bed x: 0.00 y: -65.00 z: 5.53\n"
       ]
      },
      {
       "output_type": "stream",
       "stream": "stdout",
       "text": [
        "Bed x: -21.67 y: -65.00 z: 5.58\n",
        "Bed x: -43.33 y: -43.33 z: 5.47\n"
       ]
      },
      {
       "output_type": "stream",
       "stream": "stdout",
       "text": [
        "Bed x: -21.67 y: -43.33 z: 5.32\n",
        "Bed x: 0.00 y: -43.33 z: 5.33\n"
       ]
      },
      {
       "output_type": "stream",
       "stream": "stdout",
       "text": [
        "Bed x: 21.67 y: -43.33 z: 5.41\n",
        "Bed x: 43.33 y: -43.33 z: 5.48\n"
       ]
      },
      {
       "output_type": "stream",
       "stream": "stdout",
       "text": [
        "Bed x: 65.00 y: -21.67 z: 5.33\n",
        "Bed x: 43.33 y: -21.67 z: 5.31\n"
       ]
      },
      {
       "output_type": "stream",
       "stream": "stdout",
       "text": [
        "Bed x: 21.67 y: -21.67 z: 5.28\n",
        "Bed x: 0.00 y: -21.67 z: 5.25\n"
       ]
      },
      {
       "output_type": "stream",
       "stream": "stdout",
       "text": [
        "Bed x: -21.67 y: -21.67 z: 5.27\n",
        "Bed x: -43.33 y: -21.67 z: 5.28\n"
       ]
      },
      {
       "output_type": "stream",
       "stream": "stdout",
       "text": [
        "Bed x: -65.00 y: -21.67 z: 5.36\n",
        "Bed x: -65.00 y: 0.00 z: 5.24\n"
       ]
      },
      {
       "output_type": "stream",
       "stream": "stdout",
       "text": [
        "Bed x: -43.33 y: 0.00 z: 5.15\n",
        "Bed x: -21.67 y: 0.00 z: 5.11\n"
       ]
      },
      {
       "output_type": "stream",
       "stream": "stdout",
       "text": [
        "Bed x: 0.00 y: 0.00 z: 5.08\n",
        "Bed x: 21.67 y: 0.00 z: 5.08\n"
       ]
      },
      {
       "output_type": "stream",
       "stream": "stdout",
       "text": [
        "Bed x: 43.33 y: 0.00 z: 5.12\n",
        "Bed x: 65.00 y: 0.00 z: 5.10\n"
       ]
      },
      {
       "output_type": "stream",
       "stream": "stdout",
       "text": [
        "Bed x: 65.00 y: 21.67 z: 4.90\n",
        "Bed x: 43.33 y: 21.67 z: 4.89\n"
       ]
      },
      {
       "output_type": "stream",
       "stream": "stdout",
       "text": [
        "Bed x: 21.67 y: 21.67 z: 4.91\n",
        "Bed x: 0.00 y: 21.67 z: 4.95\n"
       ]
      },
      {
       "output_type": "stream",
       "stream": "stdout",
       "text": [
        "Bed x: -21.67 y: 21.67 z: 5.01\n",
        "Bed x: -43.33 y: 21.67 z: 5.07\n"
       ]
      },
      {
       "output_type": "stream",
       "stream": "stdout",
       "text": [
        "Bed x: -65.00 y: 21.67 z: 5.13\n",
        "Bed x: -43.33 y: 43.33 z: 4.94\n"
       ]
      },
      {
       "output_type": "stream",
       "stream": "stdout",
       "text": [
        "Bed x: -21.67 y: 43.33 z: 4.91\n",
        "Bed x: 0.00 y: 43.33 z: 4.85\n"
       ]
      },
      {
       "output_type": "stream",
       "stream": "stdout",
       "text": [
        "Bed x: 21.67 y: 43.33 z: 4.78\n",
        "Bed x: 43.33 y: 43.33 z: 4.69\n"
       ]
      },
      {
       "output_type": "stream",
       "stream": "stdout",
       "text": [
        "Bed x: 21.67 y: 65.00 z: 4.65\n",
        "Bed x: 0.00 y: 65.00 z: 4.74\n"
       ]
      },
      {
       "output_type": "stream",
       "stream": "stdout",
       "text": [
        "Bed x: -21.67 y: 65.00 z: 4.83\n",
        "0.37 0.33 0.28 0.23 0.28 0.33 0.38 \n"
       ]
      },
      {
       "output_type": "stream",
       "stream": "stdout",
       "text": [
        "0.18 0.17 0.02 0.03 0.11 0.18 0.25 \n",
        "0.06 -0.02 -0.03 -0.05 -0.02 0.01 0.03 \n"
       ]
      },
      {
       "output_type": "stream",
       "stream": "stdout",
       "text": [
        "-0.06 -0.15 -0.19 -0.22 -0.22 -0.18 -0.20 \n",
        "-0.17 -0.23 -0.29 -0.35 -0.39 -0.41 -0.40 \n"
       ]
      },
      {
       "output_type": "stream",
       "stream": "stdout",
       "text": [
        "-0.28 -0.36 -0.39 -0.45 -0.52 -0.61 -0.60 \n",
        "-0.39 -0.43 -0.47 -0.56 -0.65 -0.74 -0.83 \n"
       ]
      },
      {
       "output_type": "stream",
       "stream": "stdout",
       "text": [
        "T:21.13 E:0 B:50.9\n",
        "T:21.13 E:0 B:50.9\n"
       ]
      },
      {
       "output_type": "stream",
       "stream": "stdout",
       "text": [
        "T:21.17 E:0 B:50.8\n",
        "T:21.17 E:0 B:50.7\n"
       ]
      },
      {
       "output_type": "stream",
       "stream": "stdout",
       "text": [
        "T:21.09 E:0 B:50.7\n",
        "T:21.02 E:0 B:50.7\n"
       ]
      },
      {
       "output_type": "stream",
       "stream": "stdout",
       "text": [
        "T:21.02 E:0 B:50.6\n",
        "T:21.13 E:0 B:50.5\n"
       ]
      },
      {
       "output_type": "stream",
       "stream": "stdout",
       "text": [
        "T:21.25 E:0 B:50.5\n",
        "T:21.17 E:0 B:50.5\n"
       ]
      },
      {
       "output_type": "stream",
       "stream": "stdout",
       "text": [
        "T:21.25 E:0 B:50.4\n",
        "T:21.09 E:0 B:50.3\n"
       ]
      },
      {
       "output_type": "stream",
       "stream": "stdout",
       "text": [
        "T:21.25 E:0 B:50.3\n",
        "T:21.13 E:0 B:50.2\n"
       ]
      },
      {
       "output_type": "stream",
       "stream": "stdout",
       "text": [
        "T:21.29 E:0 B:50.2\n",
        "T:21.21 E:0 B:50.2\n"
       ]
      },
      {
       "output_type": "stream",
       "stream": "stdout",
       "text": [
        "T:21.21 E:0 B:50.2\n",
        "T:21.17 E:0 B:50.0\n"
       ]
      },
      {
       "output_type": "stream",
       "stream": "stdout",
       "text": [
        "Bed x: 21.67 y: -65.00 z: 5.56\n",
        "Bed x: 0.00 y: -65.00 z: 5.52\n"
       ]
      },
      {
       "output_type": "stream",
       "stream": "stdout",
       "text": [
        "Bed x: -21.67 y: -65.00 z: 5.52\n",
        "Bed x: -43.33 y: -43.33 z: 5.37\n"
       ]
      },
      {
       "output_type": "stream",
       "stream": "stdout",
       "text": [
        "Bed x: -21.67 y: -43.33 z: 5.33\n",
        "Bed x: 0.00 y: -43.33 z: 5.33\n"
       ]
      },
      {
       "output_type": "stream",
       "stream": "stdout",
       "text": [
        "Bed x: 21.67 y: -43.33 z: 5.41\n",
        "Bed x: 43.33 y: -43.33 z: 5.48\n"
       ]
      },
      {
       "output_type": "stream",
       "stream": "stdout",
       "text": [
        "Bed x: 65.00 y: -21.67 z: 5.33\n",
        "Bed x: 43.33 y: -21.67 z: 5.29\n"
       ]
      },
      {
       "output_type": "stream",
       "stream": "stdout",
       "text": [
        "Bed x: 21.67 y: -21.67 z: 5.24\n",
        "Bed x: 0.00 y: -21.67 z: 5.22\n"
       ]
      },
      {
       "output_type": "stream",
       "stream": "stdout",
       "text": [
        "Bed x: -21.67 y: -21.67 z: 5.23\n",
        "Bed x: -43.33 y: -21.67 z: 5.23\n"
       ]
      },
      {
       "output_type": "stream",
       "stream": "stdout",
       "text": [
        "Bed x: -65.00 y: -21.67 z: 5.29\n",
        "Bed x: -65.00 y: 0.00 z: 5.19\n"
       ]
      },
      {
       "output_type": "stream",
       "stream": "stdout",
       "text": [
        "Bed x: -43.33 y: 0.00 z: 5.11\n",
        "Bed x: -21.67 y: 0.00 z: 5.07\n"
       ]
      },
      {
       "output_type": "stream",
       "stream": "stdout",
       "text": [
        "Bed x: 0.00 y: 0.00 z: 5.05\n",
        "Bed x: 21.67 y: 0.00 z: 5.07\n"
       ]
      },
      {
       "output_type": "stream",
       "stream": "stdout",
       "text": [
        "Bed x: 43.33 y: 0.00 z: 5.11\n",
        "Bed x: 65.00 y: 0.00 z: 5.09\n"
       ]
      },
      {
       "output_type": "stream",
       "stream": "stdout",
       "text": [
        "Bed x: 65.00 y: 21.67 z: 4.89\n",
        "Bed x: 43.33 y: 21.67 z: 4.89\n"
       ]
      },
      {
       "output_type": "stream",
       "stream": "stdout",
       "text": [
        "Bed x: 21.67 y: 21.67 z: 4.90\n",
        "Bed x: 0.00 y: 21.67 z: 4.95\n"
       ]
      },
      {
       "output_type": "stream",
       "stream": "stdout",
       "text": [
        "Bed x: -21.67 y: 21.67 z: 5.00\n",
        "Bed x: -43.33 y: 21.67 z: 5.04\n"
       ]
      },
      {
       "output_type": "stream",
       "stream": "stdout",
       "text": [
        "Bed x: -65.00 y: 21.67 z: 5.08\n",
        "Bed x: -43.33 y: 43.33 z: 4.95\n"
       ]
      },
      {
       "output_type": "stream",
       "stream": "stdout",
       "text": [
        "Bed x: -21.67 y: 43.33 z: 4.90\n",
        "Bed x: 0.00 y: 43.33 z: 4.85\n"
       ]
      },
      {
       "output_type": "stream",
       "stream": "stdout",
       "text": [
        "Bed x: 21.67 y: 43.33 z: 4.78\n",
        "Bed x: 43.33 y: 43.33 z: 4.70\n"
       ]
      },
      {
       "output_type": "stream",
       "stream": "stdout",
       "text": [
        "Bed x: 21.67 y: 65.00 z: 4.66\n",
        "Bed x: 0.00 y: 65.00 z: 4.75\n"
       ]
      },
      {
       "output_type": "stream",
       "stream": "stdout",
       "text": [
        "Bed x: -21.67 y: 65.00 z: 4.81\n",
        "0.20 0.21 0.22 0.22 0.26 0.30 0.42 \n"
       ]
      },
      {
       "output_type": "stream",
       "stream": "stdout",
       "text": [
        "0.09 0.07 0.03 0.03 0.11 0.18 0.25 \n",
        "-0.01 -0.07 -0.07 -0.08 -0.06 -0.01 0.03 \n"
       ]
      },
      {
       "output_type": "stream",
       "stream": "stdout",
       "text": [
        "-0.11 -0.19 -0.23 -0.25 -0.23 -0.19 -0.21 \n",
        "-0.22 -0.26 -0.30 -0.35 -0.40 -0.41 -0.41 \n"
       ]
      },
      {
       "output_type": "stream",
       "stream": "stdout",
       "text": [
        "-0.30 -0.35 -0.40 -0.45 -0.52 -0.60 -0.61 \n",
        "-0.39 -0.44 -0.49 -0.55 -0.64 -0.73 -0.81 \n"
       ]
      },
      {
       "ename": "KeyboardInterrupt",
       "evalue": "",
       "output_type": "pyerr",
       "traceback": [
        "\u001b[1;31m---------------------------------------------------------------------------\u001b[0m\n\u001b[1;31mKeyboardInterrupt\u001b[0m                         Traceback (most recent call last)",
        "\u001b[1;32m<ipython-input-16-51aa57e0ea31>\u001b[0m in \u001b[0;36m<module>\u001b[1;34m()\u001b[0m\n\u001b[0;32m     15\u001b[0m             \u001b[0mf\u001b[0m\u001b[1;33m.\u001b[0m\u001b[0mwrite\u001b[0m\u001b[1;33m(\u001b[0m\u001b[0mzlevel\u001b[0m\u001b[1;33m)\u001b[0m\u001b[1;33m\u001b[0m\u001b[0m\n\u001b[0;32m     16\u001b[0m \u001b[1;33m\u001b[0m\u001b[0m\n\u001b[1;32m---> 17\u001b[1;33m         \u001b[0msleep\u001b[0m\u001b[1;33m(\u001b[0m\u001b[0msleep_between\u001b[0m\u001b[1;33m)\u001b[0m\u001b[1;33m\u001b[0m\u001b[0m\n\u001b[0m",
        "\u001b[1;31mKeyboardInterrupt\u001b[0m: "
       ]
      }
     ],
     "prompt_number": 16
    },
    {
     "cell_type": "code",
     "collapsed": false,
     "input": [],
     "language": "python",
     "metadata": {},
     "outputs": []
    }
   ],
   "metadata": {}
  }
 ]
}